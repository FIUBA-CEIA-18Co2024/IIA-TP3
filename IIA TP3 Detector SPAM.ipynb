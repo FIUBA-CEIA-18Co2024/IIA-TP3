{
 "cells": [
  {
   "cell_type": "code",
   "execution_count": 556,
   "id": "ae42b5cdc085ad0f",
   "metadata": {
    "ExecuteTime": {
     "end_time": "2024-04-11T15:52:16.120115Z",
     "start_time": "2024-04-11T15:52:15.893237Z"
    },
    "collapsed": false,
    "jupyter": {
     "outputs_hidden": false
    }
   },
   "outputs": [],
   "source": [
    "import pandas as pd\n",
    "import numpy as np\n",
    "import matplotlib.pyplot as plt\n",
    "import seaborn as sns\n",
    "\n",
    "from sklearn.model_selection import train_test_split\n",
    "from sklearn.preprocessing import MinMaxScaler\n",
    "\n",
    "# Scikit-learn nos ofrece una variedad ampliada de modelos Naive Bayes, para este problema usamos MultinomialNB que es pensado para este tipo de problemas\n",
    "from sklearn.naive_bayes import MultinomialNB   \n",
    "\n",
    "from sklearn.linear_model import LogisticRegression\n",
    "\n",
    "from sklearn.metrics import accuracy_score, precision_score, recall_score, confusion_matrix, ConfusionMatrixDisplay"
   ]
  },
  {
   "cell_type": "code",
   "execution_count": 557,
   "id": "57454194",
   "metadata": {},
   "outputs": [],
   "source": [
    "def display_cm_normalized(cm, model):\n",
    "    # Normalize the confusion matrix\n",
    "    cm_normalized = 100 * cm.astype('float') / cm.sum(axis=1)[:, np.newaxis]\n",
    "    \n",
    "    # Plot the confusion matrix with percentages\n",
    "    fig, ax = plt.subplots()\n",
    "    im = ax.imshow(cm_normalized, interpolation='nearest', cmap=plt.cm.Blues)\n",
    "    ax.figure.colorbar(im, ax=ax)\n",
    "    \n",
    "    # We want to show all ticks and label them with the respective list entries\n",
    "    ax.set(xticks=np.arange(cm.shape[1]),\n",
    "           yticks=np.arange(cm.shape[0]),\n",
    "           xticklabels=['No SPAM', 'SPAM'], yticklabels=['No SPAM', 'SPAM'],\n",
    "           title='Normalized Confusion Matrix '+str(model),\n",
    "           ylabel='True label',\n",
    "           xlabel='Predicted label')\n",
    "    \n",
    "    # Rotate the tick labels and set their alignment\n",
    "    plt.setp(ax.get_xticklabels(), rotation=45, ha=\"right\",\n",
    "             rotation_mode=\"anchor\")\n",
    "    \n",
    "    # Loop over data dimensions and create text annotations\n",
    "    fmt = '.2f'\n",
    "    thresh = cm_normalized.max() / 2.\n",
    "    for i in range(cm.shape[0]):\n",
    "        for j in range(cm.shape[1]):\n",
    "            ax.text(j, i, f\"{cm_normalized[i, j]:{fmt}}%\",\n",
    "                    ha=\"center\", va=\"center\",\n",
    "                    color=\"white\" if cm_normalized[i, j] > thresh else \"black\")\n",
    "    fig.tight_layout()\n",
    "    plt.show()"
   ]
  },
  {
   "cell_type": "markdown",
   "id": "fadd4f97a897731c",
   "metadata": {
    "collapsed": false,
    "jupyter": {
     "outputs_hidden": false
    }
   },
   "source": [
    "# TP3: Detector de SPAM\n",
    "\n",
    "Uno de los problemas más comunes en la clasificación es la detección de correos electrónicos SPAM. Uno de los primeros modelos utilizados para abordar este problema fue el clasificador de Bayes ingenuo. La detección de SPAM es un problema persistente en el mundo digital, ya que los spammers continúan adaptando sus estrategias para eludir los filtros de correo no deseado. Además del clasificador de Bayes ingenuo, se han desarrollado y utilizado una variedad de técnicas más avanzadas en la detección de SPAM, que incluyen algoritmos de aprendizaje automático, redes neuronales y métodos basados en reglas.\n",
    "\n",
    "En este trabajo práctico, utilizaremos un conjunto de datos que consta de 4601 observaciones de correos electrónicos, de los cuales 2788 son correos legítimos y 1813 son correos SPAM. Dado que el contenido de los correos electrónicos es un tipo de dato no estructurado, es necesario procesarlo de alguna manera. Para este conjunto de datos, ya se ha aplicado un procesamiento típico en el Procesamiento del Lenguaje Natural (NLP), que consiste en contar la frecuencia de palabras observadas en los correos.\n",
    "\n",
    "El procesamiento de lenguaje natural (NLP) desempeña un papel fundamental en la detección de SPAM, ya que permite analizar el contenido de los correos electrónicos y extraer características relevantes para la clasificación. Además de contar la frecuencia de palabras, se pueden utilizar técnicas más sofisticadas, como la extracción de características semánticas y el análisis de sentimientos, para mejorar la precisión de los modelos de detección de SPAM.\n",
    "\n",
    "En este proceso, se cuenta la cantidad de ocurrencias de cada palabra en los diferentes correos.\n",
    "\n",
    "![spam counter](./spam.png)\n",
    "\n",
    "Con el fin de preservar la privacidad de los mensajes, la frecuencia de palabras se encuentra normalizada. El conjunto de datos está compuesto por 54 columnas de atributos que se denominan:\n",
    "\n",
    "- `word_freq_XXXX`: Donde `XXXX` es la palabra o símbolo. Los valores son enteros que van de 0 a 20k.\n",
    "\n",
    "Además, hay una columna adicional llamada `spam`, que es 1 si el correo es SPAM o 0 si no lo es.\n",
    "\n",
    "Los clasificadores de Bayes ingenuos fueron los primeros filtros utilizados por las aplicaciones de correo electrónico, basados en este principio de palabras. La idea es que, partiendo de un dato a priori sobre la probabilidad de que un correo sea SPAM o no, ciertas palabras nos indicarán que la probabilidad a posteriori, dadas esas palabras, es más probable que el correo sea SPAM o no."
   ]
  },
  {
   "cell_type": "code",
   "execution_count": 558,
   "id": "initial_id",
   "metadata": {
    "ExecuteTime": {
     "end_time": "2024-04-11T15:52:16.143226Z",
     "start_time": "2024-04-11T15:52:16.120715Z"
    },
    "collapsed": true,
    "jupyter": {
     "outputs_hidden": true
    }
   },
   "outputs": [
    {
     "data": {
      "text/html": [
       "<div>\n",
       "<style scoped>\n",
       "    .dataframe tbody tr th:only-of-type {\n",
       "        vertical-align: middle;\n",
       "    }\n",
       "\n",
       "    .dataframe tbody tr th {\n",
       "        vertical-align: top;\n",
       "    }\n",
       "\n",
       "    .dataframe thead th {\n",
       "        text-align: right;\n",
       "    }\n",
       "</style>\n",
       "<table border=\"1\" class=\"dataframe\">\n",
       "  <thead>\n",
       "    <tr style=\"text-align: right;\">\n",
       "      <th></th>\n",
       "      <th>word_freq_make</th>\n",
       "      <th>word_freq_address</th>\n",
       "      <th>word_freq_all</th>\n",
       "      <th>word_freq_3d</th>\n",
       "      <th>word_freq_our</th>\n",
       "      <th>word_freq_over</th>\n",
       "      <th>word_freq_remove</th>\n",
       "      <th>word_freq_internet</th>\n",
       "      <th>word_freq_order</th>\n",
       "      <th>word_freq_mail</th>\n",
       "      <th>...</th>\n",
       "      <th>word_freq_edu</th>\n",
       "      <th>word_freq_table</th>\n",
       "      <th>word_freq_conference</th>\n",
       "      <th>char_freq_;</th>\n",
       "      <th>char_freq_(</th>\n",
       "      <th>char_freq_[</th>\n",
       "      <th>char_freq_!</th>\n",
       "      <th>char_freq_$</th>\n",
       "      <th>char_freq_#</th>\n",
       "      <th>spam</th>\n",
       "    </tr>\n",
       "  </thead>\n",
       "  <tbody>\n",
       "    <tr>\n",
       "      <th>0</th>\n",
       "      <td>0</td>\n",
       "      <td>640</td>\n",
       "      <td>640</td>\n",
       "      <td>0</td>\n",
       "      <td>320</td>\n",
       "      <td>0</td>\n",
       "      <td>0</td>\n",
       "      <td>0</td>\n",
       "      <td>0</td>\n",
       "      <td>0</td>\n",
       "      <td>...</td>\n",
       "      <td>0</td>\n",
       "      <td>0</td>\n",
       "      <td>0</td>\n",
       "      <td>0</td>\n",
       "      <td>0</td>\n",
       "      <td>0</td>\n",
       "      <td>778</td>\n",
       "      <td>0</td>\n",
       "      <td>0</td>\n",
       "      <td>1</td>\n",
       "    </tr>\n",
       "    <tr>\n",
       "      <th>1</th>\n",
       "      <td>210</td>\n",
       "      <td>280</td>\n",
       "      <td>500</td>\n",
       "      <td>0</td>\n",
       "      <td>140</td>\n",
       "      <td>280</td>\n",
       "      <td>210</td>\n",
       "      <td>70</td>\n",
       "      <td>0</td>\n",
       "      <td>940</td>\n",
       "      <td>...</td>\n",
       "      <td>0</td>\n",
       "      <td>0</td>\n",
       "      <td>0</td>\n",
       "      <td>0</td>\n",
       "      <td>132</td>\n",
       "      <td>0</td>\n",
       "      <td>372</td>\n",
       "      <td>180</td>\n",
       "      <td>48</td>\n",
       "      <td>1</td>\n",
       "    </tr>\n",
       "    <tr>\n",
       "      <th>2</th>\n",
       "      <td>60</td>\n",
       "      <td>0</td>\n",
       "      <td>710</td>\n",
       "      <td>0</td>\n",
       "      <td>1230</td>\n",
       "      <td>190</td>\n",
       "      <td>190</td>\n",
       "      <td>120</td>\n",
       "      <td>640</td>\n",
       "      <td>250</td>\n",
       "      <td>...</td>\n",
       "      <td>60</td>\n",
       "      <td>0</td>\n",
       "      <td>0</td>\n",
       "      <td>10</td>\n",
       "      <td>143</td>\n",
       "      <td>0</td>\n",
       "      <td>276</td>\n",
       "      <td>184</td>\n",
       "      <td>10</td>\n",
       "      <td>1</td>\n",
       "    </tr>\n",
       "    <tr>\n",
       "      <th>3</th>\n",
       "      <td>0</td>\n",
       "      <td>0</td>\n",
       "      <td>0</td>\n",
       "      <td>0</td>\n",
       "      <td>630</td>\n",
       "      <td>0</td>\n",
       "      <td>310</td>\n",
       "      <td>630</td>\n",
       "      <td>310</td>\n",
       "      <td>630</td>\n",
       "      <td>...</td>\n",
       "      <td>0</td>\n",
       "      <td>0</td>\n",
       "      <td>0</td>\n",
       "      <td>0</td>\n",
       "      <td>137</td>\n",
       "      <td>0</td>\n",
       "      <td>137</td>\n",
       "      <td>0</td>\n",
       "      <td>0</td>\n",
       "      <td>1</td>\n",
       "    </tr>\n",
       "    <tr>\n",
       "      <th>4</th>\n",
       "      <td>0</td>\n",
       "      <td>0</td>\n",
       "      <td>0</td>\n",
       "      <td>0</td>\n",
       "      <td>630</td>\n",
       "      <td>0</td>\n",
       "      <td>310</td>\n",
       "      <td>630</td>\n",
       "      <td>310</td>\n",
       "      <td>630</td>\n",
       "      <td>...</td>\n",
       "      <td>0</td>\n",
       "      <td>0</td>\n",
       "      <td>0</td>\n",
       "      <td>0</td>\n",
       "      <td>135</td>\n",
       "      <td>0</td>\n",
       "      <td>135</td>\n",
       "      <td>0</td>\n",
       "      <td>0</td>\n",
       "      <td>1</td>\n",
       "    </tr>\n",
       "    <tr>\n",
       "      <th>5</th>\n",
       "      <td>0</td>\n",
       "      <td>0</td>\n",
       "      <td>0</td>\n",
       "      <td>0</td>\n",
       "      <td>1850</td>\n",
       "      <td>0</td>\n",
       "      <td>0</td>\n",
       "      <td>1850</td>\n",
       "      <td>0</td>\n",
       "      <td>0</td>\n",
       "      <td>...</td>\n",
       "      <td>0</td>\n",
       "      <td>0</td>\n",
       "      <td>0</td>\n",
       "      <td>0</td>\n",
       "      <td>223</td>\n",
       "      <td>0</td>\n",
       "      <td>0</td>\n",
       "      <td>0</td>\n",
       "      <td>0</td>\n",
       "      <td>1</td>\n",
       "    </tr>\n",
       "    <tr>\n",
       "      <th>6</th>\n",
       "      <td>0</td>\n",
       "      <td>0</td>\n",
       "      <td>0</td>\n",
       "      <td>0</td>\n",
       "      <td>1920</td>\n",
       "      <td>0</td>\n",
       "      <td>0</td>\n",
       "      <td>0</td>\n",
       "      <td>0</td>\n",
       "      <td>640</td>\n",
       "      <td>...</td>\n",
       "      <td>0</td>\n",
       "      <td>0</td>\n",
       "      <td>0</td>\n",
       "      <td>0</td>\n",
       "      <td>54</td>\n",
       "      <td>0</td>\n",
       "      <td>164</td>\n",
       "      <td>54</td>\n",
       "      <td>0</td>\n",
       "      <td>1</td>\n",
       "    </tr>\n",
       "    <tr>\n",
       "      <th>7</th>\n",
       "      <td>0</td>\n",
       "      <td>0</td>\n",
       "      <td>0</td>\n",
       "      <td>0</td>\n",
       "      <td>1880</td>\n",
       "      <td>0</td>\n",
       "      <td>0</td>\n",
       "      <td>1880</td>\n",
       "      <td>0</td>\n",
       "      <td>0</td>\n",
       "      <td>...</td>\n",
       "      <td>0</td>\n",
       "      <td>0</td>\n",
       "      <td>0</td>\n",
       "      <td>0</td>\n",
       "      <td>206</td>\n",
       "      <td>0</td>\n",
       "      <td>0</td>\n",
       "      <td>0</td>\n",
       "      <td>0</td>\n",
       "      <td>1</td>\n",
       "    </tr>\n",
       "    <tr>\n",
       "      <th>8</th>\n",
       "      <td>150</td>\n",
       "      <td>0</td>\n",
       "      <td>460</td>\n",
       "      <td>0</td>\n",
       "      <td>610</td>\n",
       "      <td>0</td>\n",
       "      <td>300</td>\n",
       "      <td>0</td>\n",
       "      <td>920</td>\n",
       "      <td>760</td>\n",
       "      <td>...</td>\n",
       "      <td>0</td>\n",
       "      <td>0</td>\n",
       "      <td>0</td>\n",
       "      <td>0</td>\n",
       "      <td>271</td>\n",
       "      <td>0</td>\n",
       "      <td>181</td>\n",
       "      <td>203</td>\n",
       "      <td>22</td>\n",
       "      <td>1</td>\n",
       "    </tr>\n",
       "    <tr>\n",
       "      <th>9</th>\n",
       "      <td>60</td>\n",
       "      <td>120</td>\n",
       "      <td>770</td>\n",
       "      <td>0</td>\n",
       "      <td>190</td>\n",
       "      <td>320</td>\n",
       "      <td>380</td>\n",
       "      <td>0</td>\n",
       "      <td>60</td>\n",
       "      <td>0</td>\n",
       "      <td>...</td>\n",
       "      <td>0</td>\n",
       "      <td>0</td>\n",
       "      <td>0</td>\n",
       "      <td>40</td>\n",
       "      <td>30</td>\n",
       "      <td>0</td>\n",
       "      <td>244</td>\n",
       "      <td>81</td>\n",
       "      <td>0</td>\n",
       "      <td>1</td>\n",
       "    </tr>\n",
       "  </tbody>\n",
       "</table>\n",
       "<p>10 rows × 55 columns</p>\n",
       "</div>"
      ],
      "text/plain": [
       "   word_freq_make  word_freq_address  word_freq_all  word_freq_3d  \\\n",
       "0               0                640            640             0   \n",
       "1             210                280            500             0   \n",
       "2              60                  0            710             0   \n",
       "3               0                  0              0             0   \n",
       "4               0                  0              0             0   \n",
       "5               0                  0              0             0   \n",
       "6               0                  0              0             0   \n",
       "7               0                  0              0             0   \n",
       "8             150                  0            460             0   \n",
       "9              60                120            770             0   \n",
       "\n",
       "   word_freq_our  word_freq_over  word_freq_remove  word_freq_internet  \\\n",
       "0            320               0                 0                   0   \n",
       "1            140             280               210                  70   \n",
       "2           1230             190               190                 120   \n",
       "3            630               0               310                 630   \n",
       "4            630               0               310                 630   \n",
       "5           1850               0                 0                1850   \n",
       "6           1920               0                 0                   0   \n",
       "7           1880               0                 0                1880   \n",
       "8            610               0               300                   0   \n",
       "9            190             320               380                   0   \n",
       "\n",
       "   word_freq_order  word_freq_mail  ...  word_freq_edu  word_freq_table  \\\n",
       "0                0               0  ...              0                0   \n",
       "1                0             940  ...              0                0   \n",
       "2              640             250  ...             60                0   \n",
       "3              310             630  ...              0                0   \n",
       "4              310             630  ...              0                0   \n",
       "5                0               0  ...              0                0   \n",
       "6                0             640  ...              0                0   \n",
       "7                0               0  ...              0                0   \n",
       "8              920             760  ...              0                0   \n",
       "9               60               0  ...              0                0   \n",
       "\n",
       "   word_freq_conference  char_freq_;  char_freq_(  char_freq_[  char_freq_!  \\\n",
       "0                     0            0            0            0          778   \n",
       "1                     0            0          132            0          372   \n",
       "2                     0           10          143            0          276   \n",
       "3                     0            0          137            0          137   \n",
       "4                     0            0          135            0          135   \n",
       "5                     0            0          223            0            0   \n",
       "6                     0            0           54            0          164   \n",
       "7                     0            0          206            0            0   \n",
       "8                     0            0          271            0          181   \n",
       "9                     0           40           30            0          244   \n",
       "\n",
       "   char_freq_$  char_freq_#  spam  \n",
       "0            0            0     1  \n",
       "1          180           48     1  \n",
       "2          184           10     1  \n",
       "3            0            0     1  \n",
       "4            0            0     1  \n",
       "5            0            0     1  \n",
       "6           54            0     1  \n",
       "7            0            0     1  \n",
       "8          203           22     1  \n",
       "9           81            0     1  \n",
       "\n",
       "[10 rows x 55 columns]"
      ]
     },
     "metadata": {},
     "output_type": "display_data"
    },
    {
     "data": {
      "text/plain": [
       "(4601, 55)"
      ]
     },
     "metadata": {},
     "output_type": "display_data"
    },
    {
     "data": {
      "text/plain": [
       "spam\n",
       "0    2788\n",
       "1    1813\n",
       "Name: count, dtype: int64"
      ]
     },
     "metadata": {},
     "output_type": "display_data"
    }
   ],
   "source": [
    "dataset = pd.read_csv(\"dataset/spambase.csv\") # cargando los datos desde un CSV\n",
    "display(dataset.head(10))\n",
    "display(dataset.shape)\n",
    "display(dataset['spam'].value_counts())\n"
   ]
  },
  {
   "cell_type": "markdown",
   "id": "fd5762c49a3369dc",
   "metadata": {
    "collapsed": false,
    "jupyter": {
     "outputs_hidden": false
    }
   },
   "source": [
    "Para obtener las palábras más usadas podemos hacer un `groupby`:"
   ]
  },
  {
   "cell_type": "code",
   "execution_count": 559,
   "id": "aa93f67db28da6ff",
   "metadata": {
    "ExecuteTime": {
     "end_time": "2024-04-11T15:52:16.147047Z",
     "start_time": "2024-04-11T15:52:16.143891Z"
    },
    "collapsed": false,
    "jupyter": {
     "outputs_hidden": false
    }
   },
   "outputs": [
    {
     "data": {
      "text/html": [
       "<div>\n",
       "<style scoped>\n",
       "    .dataframe tbody tr th:only-of-type {\n",
       "        vertical-align: middle;\n",
       "    }\n",
       "\n",
       "    .dataframe tbody tr th {\n",
       "        vertical-align: top;\n",
       "    }\n",
       "\n",
       "    .dataframe thead th {\n",
       "        text-align: right;\n",
       "    }\n",
       "</style>\n",
       "<table border=\"1\" class=\"dataframe\">\n",
       "  <thead>\n",
       "    <tr style=\"text-align: right;\">\n",
       "      <th></th>\n",
       "      <th>spam</th>\n",
       "      <th>word_freq_make</th>\n",
       "      <th>word_freq_address</th>\n",
       "      <th>word_freq_all</th>\n",
       "      <th>word_freq_3d</th>\n",
       "      <th>word_freq_our</th>\n",
       "      <th>word_freq_over</th>\n",
       "      <th>word_freq_remove</th>\n",
       "      <th>word_freq_internet</th>\n",
       "      <th>word_freq_order</th>\n",
       "      <th>...</th>\n",
       "      <th>word_freq_re</th>\n",
       "      <th>word_freq_edu</th>\n",
       "      <th>word_freq_table</th>\n",
       "      <th>word_freq_conference</th>\n",
       "      <th>char_freq_;</th>\n",
       "      <th>char_freq_(</th>\n",
       "      <th>char_freq_[</th>\n",
       "      <th>char_freq_!</th>\n",
       "      <th>char_freq_$</th>\n",
       "      <th>char_freq_#</th>\n",
       "    </tr>\n",
       "  </thead>\n",
       "  <tbody>\n",
       "    <tr>\n",
       "      <th>0</th>\n",
       "      <td>0</td>\n",
       "      <td>204860</td>\n",
       "      <td>681569</td>\n",
       "      <td>559220</td>\n",
       "      <td>2470</td>\n",
       "      <td>504739</td>\n",
       "      <td>124190</td>\n",
       "      <td>26160</td>\n",
       "      <td>107100</td>\n",
       "      <td>106080</td>\n",
       "      <td>...</td>\n",
       "      <td>1159138</td>\n",
       "      <td>800669</td>\n",
       "      <td>22840</td>\n",
       "      <td>142820</td>\n",
       "      <td>140182</td>\n",
       "      <td>442116</td>\n",
       "      <td>63242</td>\n",
       "      <td>306634</td>\n",
       "      <td>32475</td>\n",
       "      <td>60536</td>\n",
       "    </tr>\n",
       "    <tr>\n",
       "      <th>1</th>\n",
       "      <td>1</td>\n",
       "      <td>276190</td>\n",
       "      <td>298510</td>\n",
       "      <td>732080</td>\n",
       "      <td>298550</td>\n",
       "      <td>931799</td>\n",
       "      <td>317050</td>\n",
       "      <td>499309</td>\n",
       "      <td>377360</td>\n",
       "      <td>308320</td>\n",
       "      <td>...</td>\n",
       "      <td>226790</td>\n",
       "      <td>26700</td>\n",
       "      <td>2210</td>\n",
       "      <td>3810</td>\n",
       "      <td>37299</td>\n",
       "      <td>197563</td>\n",
       "      <td>14864</td>\n",
       "      <td>931352</td>\n",
       "      <td>316328</td>\n",
       "      <td>143003</td>\n",
       "    </tr>\n",
       "  </tbody>\n",
       "</table>\n",
       "<p>2 rows × 55 columns</p>\n",
       "</div>"
      ],
      "text/plain": [
       "   spam  word_freq_make  word_freq_address  word_freq_all  word_freq_3d  \\\n",
       "0     0          204860             681569         559220          2470   \n",
       "1     1          276190             298510         732080        298550   \n",
       "\n",
       "   word_freq_our  word_freq_over  word_freq_remove  word_freq_internet  \\\n",
       "0         504739          124190             26160              107100   \n",
       "1         931799          317050            499309              377360   \n",
       "\n",
       "   word_freq_order  ...  word_freq_re  word_freq_edu  word_freq_table  \\\n",
       "0           106080  ...       1159138         800669            22840   \n",
       "1           308320  ...        226790          26700             2210   \n",
       "\n",
       "   word_freq_conference  char_freq_;  char_freq_(  char_freq_[  char_freq_!  \\\n",
       "0                142820       140182       442116        63242       306634   \n",
       "1                  3810        37299       197563        14864       931352   \n",
       "\n",
       "   char_freq_$  char_freq_#  \n",
       "0        32475        60536  \n",
       "1       316328       143003  \n",
       "\n",
       "[2 rows x 55 columns]"
      ]
     },
     "metadata": {},
     "output_type": "display_data"
    }
   ],
   "source": [
    "column_sum = dataset.groupby(by=\"spam\", as_index=False).sum()\n",
    "display(column_sum)"
   ]
  },
  {
   "cell_type": "markdown",
   "id": "efab4e7c21dd0461",
   "metadata": {
    "collapsed": false,
    "jupyter": {
     "outputs_hidden": false
    }
   },
   "source": [
    "Y despues se pueden combinar las columnas en usando [pd.melt](https://pandas.pydata.org/docs/reference/api/pandas.melt.html)"
   ]
  },
  {
   "cell_type": "code",
   "execution_count": 560,
   "id": "a05390e27958e98b",
   "metadata": {
    "ExecuteTime": {
     "end_time": "2024-04-11T15:52:16.150961Z",
     "start_time": "2024-04-11T15:52:16.147743Z"
    },
    "collapsed": false,
    "jupyter": {
     "outputs_hidden": false
    }
   },
   "outputs": [],
   "source": [
    "# Obtenemos los atributos y target\n",
    "X = (dataset.drop(columns=\"spam\") * 100).astype(int)\n",
    "y = dataset[\"spam\"]"
   ]
  },
  {
   "cell_type": "markdown",
   "id": "987eacbf",
   "metadata": {},
   "source": [
    "#### 1. ¿Cuáles son las 10 palabras más encontradas en correos con SPAM y en correos No SPAM? ¿Hay palabras en común? ¿Algunas llaman la atención?"
   ]
  },
  {
   "cell_type": "code",
   "execution_count": 561,
   "id": "e318c6b2",
   "metadata": {},
   "outputs": [
    {
     "name": "stdout",
     "output_type": "stream",
     "text": [
      "Top 10 palabras para No SPAM:\n",
      "word_freq_you        3541702\n",
      "word_freq_george     3527559\n",
      "word_freq_hp         2496576\n",
      "word_freq_will       1495268\n",
      "word_freq_your       1223098\n",
      "word_freq_hpl        1204398\n",
      "word_freq_re         1159138\n",
      "word_freq_edu         800669\n",
      "word_freq_address     681569\n",
      "word_freq_meeting     604460\n",
      "Name: 0, dtype: int64\n",
      "\n",
      "Top 10 palabras para SPAM:\n",
      "word_freq_you         4105599\n",
      "word_freq_your        2502597\n",
      "word_freq_will         997100\n",
      "word_freq_free         939790\n",
      "word_freq_our          931799\n",
      "char_freq_!            931352\n",
      "word_freq_all          732080\n",
      "word_freq_mail         635470\n",
      "word_freq_email        578759\n",
      "word_freq_business     521250\n",
      "Name: 1, dtype: int64\n"
     ]
    }
   ],
   "source": [
    "no_span_top10 = column_sum.iloc[0].nlargest(10)\n",
    "print(\"Top 10 palabras para No SPAM:\")\n",
    "print(no_span_top10)\n",
    "span_top10 = column_sum.iloc[1].nlargest(10)\n",
    "print(\"\\nTop 10 palabras para SPAM:\")\n",
    "print(span_top10)\n"
   ]
  },
  {
   "cell_type": "code",
   "execution_count": 562,
   "id": "12f9ab30",
   "metadata": {},
   "outputs": [
    {
     "name": "stdout",
     "output_type": "stream",
     "text": [
      "\n",
      "Comparación entre palabras mas usadas\n"
     ]
    },
    {
     "data": {
      "text/html": [
       "<div>\n",
       "<style scoped>\n",
       "    .dataframe tbody tr th:only-of-type {\n",
       "        vertical-align: middle;\n",
       "    }\n",
       "\n",
       "    .dataframe tbody tr th {\n",
       "        vertical-align: top;\n",
       "    }\n",
       "\n",
       "    .dataframe thead th {\n",
       "        text-align: right;\n",
       "    }\n",
       "</style>\n",
       "<table border=\"1\" class=\"dataframe\">\n",
       "  <thead>\n",
       "    <tr style=\"text-align: right;\">\n",
       "      <th></th>\n",
       "      <th>0</th>\n",
       "      <th>1</th>\n",
       "    </tr>\n",
       "  </thead>\n",
       "  <tbody>\n",
       "    <tr>\n",
       "      <th>word_freq_you</th>\n",
       "      <td>3541702.0</td>\n",
       "      <td>4105599.0</td>\n",
       "    </tr>\n",
       "    <tr>\n",
       "      <th>word_freq_george</th>\n",
       "      <td>3527559.0</td>\n",
       "      <td>NaN</td>\n",
       "    </tr>\n",
       "    <tr>\n",
       "      <th>word_freq_hp</th>\n",
       "      <td>2496576.0</td>\n",
       "      <td>NaN</td>\n",
       "    </tr>\n",
       "    <tr>\n",
       "      <th>word_freq_will</th>\n",
       "      <td>1495268.0</td>\n",
       "      <td>997100.0</td>\n",
       "    </tr>\n",
       "    <tr>\n",
       "      <th>word_freq_your</th>\n",
       "      <td>1223098.0</td>\n",
       "      <td>2502597.0</td>\n",
       "    </tr>\n",
       "    <tr>\n",
       "      <th>word_freq_hpl</th>\n",
       "      <td>1204398.0</td>\n",
       "      <td>NaN</td>\n",
       "    </tr>\n",
       "    <tr>\n",
       "      <th>word_freq_re</th>\n",
       "      <td>1159138.0</td>\n",
       "      <td>NaN</td>\n",
       "    </tr>\n",
       "    <tr>\n",
       "      <th>word_freq_edu</th>\n",
       "      <td>800669.0</td>\n",
       "      <td>NaN</td>\n",
       "    </tr>\n",
       "    <tr>\n",
       "      <th>word_freq_address</th>\n",
       "      <td>681569.0</td>\n",
       "      <td>NaN</td>\n",
       "    </tr>\n",
       "    <tr>\n",
       "      <th>word_freq_meeting</th>\n",
       "      <td>604460.0</td>\n",
       "      <td>NaN</td>\n",
       "    </tr>\n",
       "    <tr>\n",
       "      <th>word_freq_free</th>\n",
       "      <td>NaN</td>\n",
       "      <td>939790.0</td>\n",
       "    </tr>\n",
       "    <tr>\n",
       "      <th>word_freq_our</th>\n",
       "      <td>NaN</td>\n",
       "      <td>931799.0</td>\n",
       "    </tr>\n",
       "    <tr>\n",
       "      <th>char_freq_!</th>\n",
       "      <td>NaN</td>\n",
       "      <td>931352.0</td>\n",
       "    </tr>\n",
       "    <tr>\n",
       "      <th>word_freq_all</th>\n",
       "      <td>NaN</td>\n",
       "      <td>732080.0</td>\n",
       "    </tr>\n",
       "    <tr>\n",
       "      <th>word_freq_mail</th>\n",
       "      <td>NaN</td>\n",
       "      <td>635470.0</td>\n",
       "    </tr>\n",
       "    <tr>\n",
       "      <th>word_freq_email</th>\n",
       "      <td>NaN</td>\n",
       "      <td>578759.0</td>\n",
       "    </tr>\n",
       "    <tr>\n",
       "      <th>word_freq_business</th>\n",
       "      <td>NaN</td>\n",
       "      <td>521250.0</td>\n",
       "    </tr>\n",
       "  </tbody>\n",
       "</table>\n",
       "</div>"
      ],
      "text/plain": [
       "                            0          1\n",
       "word_freq_you       3541702.0  4105599.0\n",
       "word_freq_george    3527559.0        NaN\n",
       "word_freq_hp        2496576.0        NaN\n",
       "word_freq_will      1495268.0   997100.0\n",
       "word_freq_your      1223098.0  2502597.0\n",
       "word_freq_hpl       1204398.0        NaN\n",
       "word_freq_re        1159138.0        NaN\n",
       "word_freq_edu        800669.0        NaN\n",
       "word_freq_address    681569.0        NaN\n",
       "word_freq_meeting    604460.0        NaN\n",
       "word_freq_free            NaN   939790.0\n",
       "word_freq_our             NaN   931799.0\n",
       "char_freq_!               NaN   931352.0\n",
       "word_freq_all             NaN   732080.0\n",
       "word_freq_mail            NaN   635470.0\n",
       "word_freq_email           NaN   578759.0\n",
       "word_freq_business        NaN   521250.0"
      ]
     },
     "metadata": {},
     "output_type": "display_data"
    }
   ],
   "source": [
    "print(\"\\nComparación entre palabras mas usadas\")\n",
    "display(pd.concat([no_span_top10, span_top10], axis=1))"
   ]
  },
  {
   "cell_type": "markdown",
   "id": "180c577f",
   "metadata": {},
   "source": [
    "#### 2. Separe el conjunto de datos en un conjunto de entrenamiento y un conjunto de prueba (70% y 30% respectivamente)."
   ]
  },
  {
   "cell_type": "code",
   "execution_count": 563,
   "id": "70820990",
   "metadata": {},
   "outputs": [],
   "source": [
    "random_state = 12345 #Repetitibilidad en el split de los datos"
   ]
  },
  {
   "cell_type": "code",
   "execution_count": 564,
   "id": "a05dd9a86a0270d1",
   "metadata": {
    "ExecuteTime": {
     "end_time": "2024-04-11T15:52:16.155862Z",
     "start_time": "2024-04-11T15:52:16.151805Z"
    },
    "collapsed": false,
    "jupyter": {
     "outputs_hidden": false
    }
   },
   "outputs": [],
   "source": [
    "X_train, X_test, y_train, y_test = train_test_split(X, y, test_size=0.4, random_state=random_state)"
   ]
  },
  {
   "cell_type": "markdown",
   "id": "4deca5d28cadd43b",
   "metadata": {
    "collapsed": false,
    "jupyter": {
     "outputs_hidden": false
    }
   },
   "source": [
    "Escalamos para aplicar en regresión logística"
   ]
  },
  {
   "cell_type": "code",
   "execution_count": 565,
   "id": "712e38ef8afee400",
   "metadata": {
    "ExecuteTime": {
     "end_time": "2024-04-11T15:52:16.162957Z",
     "start_time": "2024-04-11T15:52:16.156768Z"
    },
    "collapsed": false,
    "jupyter": {
     "outputs_hidden": false
    }
   },
   "outputs": [],
   "source": [
    "scaler = MinMaxScaler()\n",
    "X_train_scaled = scaler.fit_transform(X_train)\n",
    "X_test_scaled = scaler.transform(X_test)\n",
    "\n",
    "# Lo transformamos en DataFrames\n",
    "X_train_scaled = pd.DataFrame(X_train_scaled, columns=X.columns)\n",
    "X_test_scaled = pd.DataFrame(X_test_scaled, columns=X.columns)"
   ]
  },
  {
   "cell_type": "markdown",
   "id": "2967a9c7",
   "metadata": {},
   "source": [
    "#### 3. Utilizando un clasificador de Bayes ingenuo, entrene con el conjunto de entrenamiento."
   ]
  },
  {
   "cell_type": "code",
   "execution_count": 566,
   "id": "76a9e6364b4d74b",
   "metadata": {
    "ExecuteTime": {
     "end_time": "2024-04-11T15:52:16.168004Z",
     "start_time": "2024-04-11T15:52:16.164460Z"
    },
    "collapsed": false,
    "jupyter": {
     "outputs_hidden": false
    }
   },
   "outputs": [
    {
     "name": "stdout",
     "output_type": "stream",
     "text": [
      "Porcentaje de muestras bien clasificadas: 87.34383487235198%\n"
     ]
    }
   ],
   "source": [
    "bayes_naive = MultinomialNB()\n",
    "bayes_naive.fit(X_train, y_train)   #Entrenamos con los datos sin escalar.\n",
    "print(f\"Porcentaje de muestras bien clasificadas: {(bayes_naive.score(X_test, y_test)*100)}%\")"
   ]
  },
  {
   "cell_type": "code",
   "execution_count": 567,
   "id": "06e870e4",
   "metadata": {},
   "outputs": [],
   "source": [
    "y_test_pred_bn = bayes_naive.predict(X_test_scaled) #Predecimos con los datos escalados para poder comparar con Regresión Logística"
   ]
  },
  {
   "cell_type": "code",
   "execution_count": 568,
   "id": "154cf7ce",
   "metadata": {},
   "outputs": [
    {
     "name": "stdout",
     "output_type": "stream",
     "text": [
      "Cantidad de mal clasificados (0: no_spam | 1: spam): Predicted Label\n",
      "0    130\n",
      "1     56\n",
      "Name: count, dtype: int64\n"
     ]
    }
   ],
   "source": [
    "df_compare = pd.DataFrame({'True Label': y_test, 'Predicted Label': y_test_pred_bn})\n",
    "df_compare = df_compare[df_compare['True Label'] != df_compare['Predicted Label']]\n",
    "print(f\"Cantidad de mal clasificados (0: no_spam | 1: spam): {df_compare['Predicted Label'].value_counts()}\")"
   ]
  },
  {
   "cell_type": "markdown",
   "id": "5672fdf9",
   "metadata": {},
   "source": [
    "#### 4. Utilizando un clasificador de Regresión Logística, entrene con el conjunto de entrenamiento (en este caso, normalice los datos)."
   ]
  },
  {
   "cell_type": "code",
   "execution_count": 569,
   "id": "70e35e48",
   "metadata": {},
   "outputs": [
    {
     "name": "stdout",
     "output_type": "stream",
     "text": [
      "Porcentaje de muestras bien clasificadas: 80.55404671374254%\n"
     ]
    }
   ],
   "source": [
    "regresion_logistica = LogisticRegression()\n",
    "regresion_logistica.fit(X_train_scaled, y_train) #Entrenamos con los valores escalados\n",
    "\n",
    "print(f\"Porcentaje de muestras bien clasificadas: {(regresion_logistica.score(X_test, y_test)*100)}%\")"
   ]
  },
  {
   "cell_type": "code",
   "execution_count": 570,
   "id": "cb588f95",
   "metadata": {},
   "outputs": [],
   "source": [
    "y_test_pred_rl = regresion_logistica.predict(X_test_scaled)"
   ]
  },
  {
   "cell_type": "markdown",
   "id": "56345204",
   "metadata": {},
   "source": [
    "#### 5. Calcule la matriz de confusión del conjunto de evaluación para ambos modelos. ¿Qué tipo de error comete más cada modelo? ¿Cuál de los dos tipos de error crees que es más importante para este problema?"
   ]
  },
  {
   "cell_type": "code",
   "execution_count": 571,
   "id": "586e60ae",
   "metadata": {},
   "outputs": [
    {
     "data": {
      "image/png": "[encoded data removed]",
      "text/plain": [
       "<Figure size 640x480 with 2 Axes>"
      ]
     },
     "metadata": {},
     "output_type": "display_data"
    },
    {
     "data": {
      "image/png": "[encoded data removed]",
      "text/plain": [
       "<Figure size 640x480 with 2 Axes>"
      ]
     },
     "metadata": {},
     "output_type": "display_data"
    }
   ],
   "source": [
    "cm_nv = confusion_matrix(y_test, y_test_pred_bn)\n",
    "cm_rl = confusion_matrix(y_test, y_test_pred_rl)\n",
    "\n",
    "display_cm_normalized(cm_nv, 'Bayes Ingenuo')\n",
    "display_cm_normalized(cm_rl, \"Regresión Logística\")"
   ]
  },
  {
   "cell_type": "markdown",
   "id": "e9f0bf0c",
   "metadata": {},
   "source": [
    "Para el caso de la matriz de confusión se toma por defecto valor True Positive al superior izquierdo. En este caso seria positivo los valores No SPAM que fueron clasificados como tal. \n",
    "1. Un Falso Positivo o error Tipo 1 en el contexto del problema son los correos No SPAM que fueron clasificados como SPAM. En el contexto del problema este es el peor caso, ya que se puede haber perdido un correo mal clasificado que era importante.\n",
    "2. Un Falso Negativo o error Tipo 2 en el contexto del problema son los correos SPAM, que se clasificaron como No SPAM. En este contexto esto no es tan grave como perder mails importantes, ya que en todo caso se tienen algunos SPAM en la bandeja de entrada."
   ]
  },
  {
   "cell_type": "markdown",
   "id": "ef50f578",
   "metadata": {},
   "source": [
    "#### 6. Calcule la precisión y la recuperación de ambos modelos. Para cada métrica, ¿cuál es el mejor modelo? ¿Cómo se relacionan estas métricas con los tipos de errores analizados en el punto anterior? Expanda su respuesta."
   ]
  },
  {
   "cell_type": "code",
   "execution_count": 572,
   "id": "ac63e8be",
   "metadata": {},
   "outputs": [
    {
     "name": "stdout",
     "output_type": "stream",
     "text": [
      "------------------------------\n",
      "Modelo Bayes Ingenuo\n",
      "Precision: 0.9161676646706587\n",
      "Recuperación: 0.8247978436657682\n",
      "------------------------------\n",
      "Modelo Regresión Logística\n",
      "Precision: 0.9083850931677019\n",
      "Recuperación: 0.7884097035040432\n"
     ]
    }
   ],
   "source": [
    "from sklearn.metrics import precision_score, recall_score\n",
    "\n",
    "print(\"------------------------------\")\n",
    "print(\"Modelo Bayes Ingenuo\")\n",
    "print(f\"Precision: {precision_score(y_test, y_test_pred_bn, zero_division=0, pos_label=1)}\")\n",
    "print(f\"Recuperación: {recall_score(y_test, y_test_pred_bn, zero_division=0, pos_label=1)}\")\n",
    "print(\"------------------------------\")\n",
    "print(\"Modelo Regresión Logística\")\n",
    "print(f\"Precision: {precision_score(y_test, y_test_pred_rl, zero_division=0, pos_label=1)}\")\n",
    "print(f\"Recuperación: {recall_score(y_test, y_test_pred_rl, zero_division=0, pos_label=1)}\")"
   ]
  },
  {
   "cell_type": "markdown",
   "id": "b3e6f763",
   "metadata": {},
   "source": [
    "* Para el caso de los scores a nosotros nos interesa clasificar como positivo a los valores de SPAM con pos_label=1\n",
    "    * La precisión es intuitivamente la capacidad del clasificador de no etiquetar como positiva una muestra que es negativa.\n",
    "    * La recuperación es intuitivamente la capacidad del clasificador de encontrar todas las muestras positivas.\n",
    "\n",
    "* El modelo de Bayes Ingenuo muestra mejor precisión, lo que se veía en la matriz de confusión, ya que clasifica menos mail No SPAM como SPAM.\n",
    "* El modelo de Bayes Ingenuo entrenado con los datos sin escalar parece ser mejor en clasificar los mails como SPAM en general.\n"
   ]
  },
  {
   "cell_type": "markdown",
   "id": "cf6434d2",
   "metadata": {},
   "source": [
    "#### 7. Obtenga la curva ROC y el AUC (Área Bajo la Curva ROC) de ambos modelos."
   ]
  },
  {
   "cell_type": "code",
   "execution_count": 573,
   "id": "26223df8",
   "metadata": {},
   "outputs": [
    {
     "data": {
      "image/png": "[encoded data removed]",
      "text/plain": [
       "<Figure size 640x480 with 1 Axes>"
      ]
     },
     "metadata": {},
     "output_type": "display_data"
    }
   ],
   "source": [
    "from sklearn.metrics import auc, roc_curve\n",
    "\n",
    "prob_nv = bayes_naive.predict_proba(X_test_scaled)[:, -1]\n",
    "prob_lv = regresion_logistica.predict_proba(X_test_scaled)[:, -1]\n",
    "\n",
    "fpr_bayes_naive, tpr_bayes_naive, _ = roc_curve(y_test, prob_nv)\n",
    "fpr_regresion_logistica, tpr_regresion_logistica, _ = roc_curve(y_test, prob_lv)\n",
    "\n",
    "plt.plot(fpr_bayes_naive, tpr_bayes_naive, label=\"Modelo Bayes Naive\")\n",
    "plt.plot(fpr_regresion_logistica, tpr_regresion_logistica, label=\"Modelo Regresión Logística\")\n",
    "plt.xlim([-0.01, 1.01])\n",
    "plt.ylim([-0.01, 1.01])\n",
    "plt.xlabel(\"Tasa de falsos positivos\")\n",
    "plt.ylabel(\"Tasa de verdaderos positivos\")\n",
    "plt.legend()\n",
    "plt.tight_layout();"
   ]
  },
  {
   "cell_type": "markdown",
   "id": "1f086b90",
   "metadata": {},
   "source": [
    "La curva ROC nos permite ver para todo valor de umbral, los dos tipos de errores. En el eje de las abscisas se utiliza la tasa de falsos positivos (o 1-especificidad) y en la ordenada la tasa de verdadero positivos (sensibilidad).\\\n",
    "La curva se obtiene midiendo la sensibilidad y la especificad para todos los valores de umbrales de 0 a 1."
   ]
  },
  {
   "cell_type": "code",
   "execution_count": 574,
   "id": "04466043",
   "metadata": {},
   "outputs": [
    {
     "name": "stdout",
     "output_type": "stream",
     "text": [
      "Modelo Bayes Ingenuo AUC: 0.954120261251959\n",
      "Modelo Regresión Logística AUC: 0.9447672350997844\n"
     ]
    }
   ],
   "source": [
    "print(f\"Modelo Bayes Ingenuo AUC: {auc(fpr_bayes_naive, tpr_bayes_naive)}\")\n",
    "print(f\"Modelo Regresión Logística AUC: {auc(fpr_regresion_logistica, tpr_regresion_logistica)}\")"
   ]
  },
  {
   "cell_type": "markdown",
   "id": "7cab5dc5",
   "metadata": {},
   "source": [
    "El modelo de Bayes Ingenuo con los datos escalados funciona levemente mejor según la AUC, tiene mejor poder de clasificación."
   ]
  }
 ],
 "metadata": {
  "kernelspec": {
   "display_name": "iia-glMS84nT-py3.12",
   "language": "python",
   "name": "python3"
  },
  "language_info": {
   "codemirror_mode": {
    "name": "ipython",
    "version": 3
   },
   "file_extension": ".py",
   "mimetype": "text/x-python",
   "name": "python",
   "nbconvert_exporter": "python",
   "pygments_lexer": "ipython3",
   "version": "3.12.5"
  }
 },
 "nbformat": 4,
 "nbformat_minor": 5
}
